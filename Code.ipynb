{
 "cells": [
  {
   "attachments": {},
   "cell_type": "markdown",
   "metadata": {},
   "source": [
    "<h1>Narrative Arc Sherlock Holmes</h1>"
   ]
  },
  {
   "attachments": {},
   "cell_type": "markdown",
   "metadata": {},
   "source": [
    "by David Siegl"
   ]
  },
  {
   "cell_type": "code",
   "execution_count": 3,
   "metadata": {},
   "outputs": [],
   "source": [
    "import pandas as pd\n",
    "import nltk\n",
    "import os\n",
    "from collections import defaultdict\n",
    "import re"
   ]
  },
  {
   "attachments": {},
   "cell_type": "markdown",
   "metadata": {},
   "source": [
    "<h2>Preprocessing</h2>"
   ]
  },
  {
   "attachments": {},
   "cell_type": "markdown",
   "metadata": {},
   "source": [
    "The complete works of Sherlock Holmes were downloaded as individual text files through this website archive https://sherlock-holm.es/.\n",
    "As a first step of the preprocessing pipeline we read every text file, extract its title, remove some unnecessary lines and finally build a dictionary with the keys corresponding to the respective title and the values to each text accordingly. The created dictionary is then converted into a dataframe."
   ]
  },
  {
   "cell_type": "code",
   "execution_count": 30,
   "metadata": {},
   "outputs": [],
   "source": [
    "df_dict = defaultdict(str)\n",
    "title = None\n",
    "\n",
    "for f in os.listdir('./data/sherlock/'):\n",
    "    with open('./data/sherlock/' + f, 'r') as text:\n",
    "        lines = text.readlines()\n",
    "        text.seek(0)\n",
    "        ls = list()\n",
    "        for number, line in enumerate(lines):\n",
    "            if number == 4: # extracting the title of each story as a key\n",
    "                title = line\n",
    "                title = title.strip()\n",
    "            elif number not in [4, 6]:\n",
    "                ls.append(line.strip(\" \"))\n",
    "            \n",
    "        conc_text = \"\".join(ls)\n",
    "        conc_text = re.sub(r'[-]+\\n([\\S\\s]+)', '', conc_text) # removing additional information at the bottom of the text files\n",
    "        conc_text = conc_text.strip()\n",
    "        df_dict[title] = conc_text"
   ]
  },
  {
   "cell_type": "code",
   "execution_count": 31,
   "metadata": {},
   "outputs": [],
   "source": [
    "df_sherlock = pd.DataFrame.from_dict(df_dict, orient='index', columns=['text'])\n",
    "df_sherlock.index.name = 'title'"
   ]
  },
  {
   "cell_type": "code",
   "execution_count": null,
   "metadata": {},
   "outputs": [],
   "source": []
  }
 ],
 "metadata": {
  "kernelspec": {
   "display_name": "Python 3",
   "language": "python",
   "name": "python3"
  },
  "language_info": {
   "codemirror_mode": {
    "name": "ipython",
    "version": 3
   },
   "file_extension": ".py",
   "mimetype": "text/x-python",
   "name": "python",
   "nbconvert_exporter": "python",
   "pygments_lexer": "ipython3",
   "version": "3.11.2"
  },
  "orig_nbformat": 4
 },
 "nbformat": 4,
 "nbformat_minor": 2
}
