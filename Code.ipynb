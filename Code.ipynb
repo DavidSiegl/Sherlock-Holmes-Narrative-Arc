{
 "cells": [
  {
   "attachments": {},
   "cell_type": "markdown",
   "metadata": {},
   "source": [
    "<h1>Narrative Arc Sherlock Holmes</h1>"
   ]
  },
  {
   "attachments": {},
   "cell_type": "markdown",
   "metadata": {},
   "source": [
    "by David Siegl"
   ]
  },
  {
   "cell_type": "code",
   "execution_count": 32,
   "metadata": {},
   "outputs": [
    {
     "name": "stderr",
     "output_type": "stream",
     "text": [
      "[nltk_data] Downloading package punkt to /home/david/nltk_data...\n",
      "[nltk_data]   Package punkt is already up-to-date!\n",
      "[nltk_data] Downloading package averaged_perceptron_tagger to\n",
      "[nltk_data]     /home/david/nltk_data...\n",
      "[nltk_data]   Package averaged_perceptron_tagger is already up-to-\n",
      "[nltk_data]       date!\n",
      "[nltk_data] Downloading package wordnet to /home/david/nltk_data...\n",
      "[nltk_data]   Package wordnet is already up-to-date!\n"
     ]
    },
    {
     "data": {
      "text/plain": [
       "True"
      ]
     },
     "execution_count": 32,
     "metadata": {},
     "output_type": "execute_result"
    }
   ],
   "source": [
    "import pandas as pd\n",
    "import nltk\n",
    "import os\n",
    "from collections import defaultdict\n",
    "from collections import Counter\n",
    "import re\n",
    "import string\n",
    "import seaborn as sns\n",
    "import matplotlib.pyplot as plt\n",
    "nltk.download ('punkt')\n",
    "nltk.download('averaged_perceptron_tagger')\n",
    "nltk.download('wordnet')"
   ]
  },
  {
   "attachments": {},
   "cell_type": "markdown",
   "metadata": {},
   "source": [
    "<h2>Preprocessing</h2>"
   ]
  },
  {
   "attachments": {},
   "cell_type": "markdown",
   "metadata": {},
   "source": [
    "The complete works of Sherlock Holmes were downloaded as individual text files through this website archive https://sherlock-holm.es/.\n",
    "\n",
    "As a first step of the preprocessing pipeline we read every text file, extract its title, remove some unnecessary lines and finally build a dictionary with the keys corresponding to the respective title and the values to each text accordingly. The created dictionary is then converted into a dataframe."
   ]
  },
  {
   "cell_type": "code",
   "execution_count": 13,
   "metadata": {},
   "outputs": [],
   "source": [
    "df_dict = defaultdict(str)\n",
    "title = None\n",
    "\n",
    "for f in os.listdir('./data/sherlock/'):\n",
    "    with open('./data/sherlock/' + f, 'r') as text:\n",
    "        lines = text.readlines()\n",
    "        text.seek(0)\n",
    "        ls = list()\n",
    "        for number, line in enumerate(lines):\n",
    "            if number == 4: # extracting the title of each story as a key\n",
    "                title = line\n",
    "                title = title.strip()\n",
    "            elif number not in [4, 6] and line != \"\\n\": # skipping unneccesary lines\n",
    "                ls.append(line.strip(\" \"))\n",
    "            \n",
    "        conc_text = \"\".join(ls)\n",
    "        conc_text = re.sub(r'[-]{10}\\n([\\S\\s]+)', '', conc_text) # removing additional information at the bottom of the text files\n",
    "        conc_text = conc_text.strip()\n",
    "        df_dict[title] = conc_text"
   ]
  },
  {
   "cell_type": "code",
   "execution_count": 15,
   "metadata": {},
   "outputs": [],
   "source": [
    "df_sherlock = pd.DataFrame.from_dict(df_dict, orient='index', columns=['text'])\n",
    "df_sherlock.index.name = 'title'"
   ]
  },
  {
   "attachments": {},
   "cell_type": "markdown",
   "metadata": {},
   "source": [
    "Next we apply common preprocessing steps such as punctuation and stopwords removal as well as lemmatisation."
   ]
  },
  {
   "cell_type": "code",
   "execution_count": 16,
   "metadata": {},
   "outputs": [],
   "source": [
    "df_sherlock['text_prepro'] = df_sherlock['text'].str.lower()"
   ]
  },
  {
   "cell_type": "code",
   "execution_count": 17,
   "metadata": {},
   "outputs": [],
   "source": [
    "translator = str.maketrans('', '', string.punctuation)\n",
    "df_sherlock['text_prepro'] = df_sherlock['text_prepro'].apply(lambda x: x.translate(translator))"
   ]
  },
  {
   "cell_type": "code",
   "execution_count": 18,
   "metadata": {},
   "outputs": [],
   "source": [
    "stopwords = nltk.corpus.stopwords.words('english')\n",
    "df_sherlock['text_prepro'] = df_sherlock['text_prepro'].apply(lambda x: ' '.join([word for word in x.split() if word not in (stopwords)]))"
   ]
  },
  {
   "cell_type": "code",
   "execution_count": 19,
   "metadata": {},
   "outputs": [],
   "source": [
    "df_sherlock['text_prepro'] = df_sherlock['text_prepro'].apply(lambda x: nltk.tokenize.word_tokenize(x))"
   ]
  },
  {
   "cell_type": "code",
   "execution_count": 31,
   "metadata": {},
   "outputs": [],
   "source": [
    "lemmatizer = nltk.stem.WordNetLemmatizer()\n",
    "\n",
    "def lem_text(text):\n",
    "    lemmed_words = [lemmatizer.lemmatize(word) for word in text]\n",
    "    return ' '.join(lemmed_words)\n",
    "\n",
    "df_sherlock['text_lemmed'] = df_sherlock['text_prepro'].apply(lem_text)"
   ]
  },
  {
   "cell_type": "code",
   "execution_count": 27,
   "metadata": {},
   "outputs": [],
   "source": [
    "# stemmer = nltk.stem.PorterStemmer()\n",
    "\n",
    "# def stem_text(text):\n",
    "#     stemmed_words = [stemmer.stem(word) for word in text]\n",
    "#     return ' '.join(stemmed_words)\n",
    "\n",
    "# df_sherlock['text_stemmed'] = df_sherlock['text_prepro'].apply(stem_text)"
   ]
  },
  {
   "attachments": {},
   "cell_type": "markdown",
   "metadata": {},
   "source": [
    "In addition we also have to segment each text into 5 parts of equal length in order to compute local values for certain points in narrative time which can then be compared according to the notion of a narrative arc. Here we opt for a value of 5 segments because it firstly corresponds to the traditional notion of the dramatic climactic progression of rise and fall and is secondly also supported by the relevant literature which has been consulted beforehand."
   ]
  },
  {
   "cell_type": "code",
   "execution_count": 41,
   "metadata": {},
   "outputs": [],
   "source": [
    "def segment_text (text):\n",
    "    segment_length = len(text) // 5\n",
    "    segments = [text[i:i+segment_length] for i in range(0, len(text), segment_length)]\n",
    "    return segments[:5]\n",
    "\n",
    "df_sherlock['segments'] = df_sherlock['text_prepro'].apply(segment_text)\n",
    "\n",
    "df_sherlock[['segment1', 'segment2', 'segment3', 'segment4', 'segment5']] = pd.DataFrame(df_sherlock['segments'].tolist(), index=df_sherlock.index)\n",
    "\n",
    "df_sherlock = df_sherlock.drop('segments', axis=1)"
   ]
  },
  {
   "attachments": {},
   "cell_type": "markdown",
   "metadata": {},
   "source": [
    "<h2> EDA </h2>"
   ]
  },
  {
   "attachments": {},
   "cell_type": "markdown",
   "metadata": {},
   "source": [
    "In order to obtain a better understanding on the data we first do some basic EDA such as for example the extraction of the distribution of text length throughout the whole dataset which will help with normalisation further down the pipeline."
   ]
  },
  {
   "cell_type": "code",
   "execution_count": 20,
   "metadata": {},
   "outputs": [],
   "source": [
    "df_sherlock['word_counts'] = df_sherlock['text_prepro'].apply(lambda x: len(x))"
   ]
  },
  {
   "cell_type": "code",
   "execution_count": 26,
   "metadata": {},
   "outputs": [
    {
     "data": {
      "text/plain": [
       "<Axes: xlabel='word_counts', ylabel='Count'>"
      ]
     },
     "execution_count": 26,
     "metadata": {},
     "output_type": "execute_result"
    },
    {
     "data": {
      "image/png": "[encoded data removed]",
      "text/plain": [
       "<Figure size 640x480 with 1 Axes>"
      ]
     },
     "metadata": {},
     "output_type": "display_data"
    }
   ],
   "source": [
    "sns.histplot(df_sherlock, x='word_counts', kde=True)"
   ]
  },
  {
   "attachments": {},
   "cell_type": "markdown",
   "metadata": {},
   "source": [
    "This basic histogram already displays a considerable skew of the data towards shorter stories of around 5000 words, which can be mainly explained by the fact that the original Sherlock Holmes stories were mainly published as a series of short stories within the literature magazine 'The Strand'."
   ]
  },
  {
   "cell_type": "code",
   "execution_count": 39,
   "metadata": {},
   "outputs": [
    {
     "data": {
      "text/plain": [
       "[('said', 3095),\n",
       " ('holmes', 3016),\n",
       " ('one', 2585),\n",
       " ('upon', 2578),\n",
       " ('man', 2258),\n",
       " ('would', 2193),\n",
       " ('mr', 2035),\n",
       " ('could', 1888),\n",
       " ('well', 1544),\n",
       " ('u', 1522),\n",
       " ('see', 1368),\n",
       " ('come', 1191),\n",
       " ('may', 1149),\n",
       " ('know', 1149),\n",
       " ('hand', 1141),\n",
       " ('time', 1071),\n",
       " ('little', 1031),\n",
       " ('sir', 1012),\n",
       " ('watson', 994),\n",
       " ('two', 975),\n",
       " ('face', 948),\n",
       " ('room', 932),\n",
       " ('must', 920),\n",
       " ('think', 900),\n",
       " ('came', 891),\n",
       " ('way', 887),\n",
       " ('house', 883),\n",
       " ('back', 856),\n",
       " ('case', 820),\n",
       " ('say', 819),\n",
       " ('door', 781),\n",
       " ('never', 767),\n",
       " ('day', 744),\n",
       " ('eye', 739),\n",
       " ('last', 738),\n",
       " ('nothing', 738),\n",
       " ('might', 701),\n",
       " ('good', 689),\n",
       " ('night', 683),\n",
       " ('friend', 669),\n",
       " ('matter', 657),\n",
       " ('shall', 652),\n",
       " ('go', 649),\n",
       " ('yes', 648),\n",
       " ('made', 644),\n",
       " ('tell', 644),\n",
       " ('found', 640),\n",
       " ('first', 634),\n",
       " ('long', 633),\n",
       " ('like', 632)]"
      ]
     },
     "execution_count": 39,
     "metadata": {},
     "output_type": "execute_result"
    }
   ],
   "source": [
    "all_text = ' '.join(df_sherlock['text_lemmed'])\n",
    "all_text = nltk.word_tokenize(all_text)\n",
    " \n",
    "word_counts = Counter(all_text)\n",
    "word_counts.most_common(50)"
   ]
  },
  {
   "attachments": {},
   "cell_type": "markdown",
   "metadata": {},
   "source": [
    "The extraction of the most common words across the stories of Sherlock Holmes do not provide too much of a surprise at a first glance: The frequent mentioning of the two protagonists names (Holmes and Watson) are to be expected. Furthermore the frequent usage of basic verbs might already suggest the establishing of a certain narrative tension throughout a given story. Last but not least high occurence of nouns such as 'room', 'door' or 'night' point towards more mysterious semantics, which can be attributed to the genre conventions of crime/detective fiction."
   ]
  },
  {
   "attachments": {},
   "cell_type": "markdown",
   "metadata": {},
   "source": [
    "<h2> Narrative arc </h2>"
   ]
  },
  {
   "attachments": {},
   "cell_type": "markdown",
   "metadata": {},
   "source": [
    "<h2> Temporal usage </h2>"
   ]
  },
  {
   "cell_type": "code",
   "execution_count": null,
   "metadata": {},
   "outputs": [],
   "source": [
    "def pos_tag_text(text):\n",
    "    pos_tags = nltk.pos_tag(text)\n",
    "    return pos_tags\n",
    "\n",
    "df_sherlock['text_pos'] = df_sherlock['text_prepro'].apply(pos_tag_text)"
   ]
  },
  {
   "attachments": {},
   "cell_type": "markdown",
   "metadata": {},
   "source": [
    "<h2> Emotion Analysis </h2>"
   ]
  },
  {
   "cell_type": "markdown",
   "metadata": {},
   "source": []
  }
 ],
 "metadata": {
  "kernelspec": {
   "display_name": "Python 3",
   "language": "python",
   "name": "python3"
  },
  "language_info": {
   "codemirror_mode": {
    "name": "ipython",
    "version": 3
   },
   "file_extension": ".py",
   "mimetype": "text/x-python",
   "name": "python",
   "nbconvert_exporter": "python",
   "pygments_lexer": "ipython3",
   "version": "3.11.2"
  },
  "orig_nbformat": 4
 },
 "nbformat": 4,
 "nbformat_minor": 2
}
