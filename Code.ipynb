{
 "cells": [
  {
   "attachments": {},
   "cell_type": "markdown",
   "metadata": {},
   "source": [
    "<h1>Narrative Arc Sherlock Holmes</h1>"
   ]
  },
  {
   "attachments": {},
   "cell_type": "markdown",
   "metadata": {},
   "source": [
    "by David Siegl"
   ]
  },
  {
   "cell_type": "code",
   "execution_count": 47,
   "metadata": {},
   "outputs": [
    {
     "name": "stderr",
     "output_type": "stream",
     "text": [
      "[nltk_data] Downloading package punkt to /home/david/nltk_data...\n",
      "[nltk_data]   Unzipping tokenizers/punkt.zip.\n"
     ]
    },
    {
     "data": {
      "text/plain": [
       "True"
      ]
     },
     "execution_count": 47,
     "metadata": {},
     "output_type": "execute_result"
    }
   ],
   "source": [
    "import pandas as pd\n",
    "import nltk\n",
    "import os\n",
    "from collections import defaultdict\n",
    "import re\n",
    "import string\n",
    "nltk.download ('punkt')\n",
    "nltk.download('averaged_perceptron_tagger')"
   ]
  },
  {
   "attachments": {},
   "cell_type": "markdown",
   "metadata": {},
   "source": [
    "<h2>Preprocessing</h2>"
   ]
  },
  {
   "attachments": {},
   "cell_type": "markdown",
   "metadata": {},
   "source": [
    "The complete works of Sherlock Holmes were downloaded as individual text files through this website archive https://sherlock-holm.es/.\n",
    "As a first step of the preprocessing pipeline we read every text file, extract its title, remove some unnecessary lines and finally build a dictionary with the keys corresponding to the respective title and the values to each text accordingly. The created dictionary is then converted into a dataframe."
   ]
  },
  {
   "cell_type": "code",
   "execution_count": 60,
   "metadata": {},
   "outputs": [],
   "source": [
    "df_dict = defaultdict(str)\n",
    "title = None\n",
    "\n",
    "for f in os.listdir('./data/sherlock/'):\n",
    "    with open('./data/sherlock/' + f, 'r') as text:\n",
    "        lines = text.readlines()\n",
    "        text.seek(0)\n",
    "        ls = list()\n",
    "        for number, line in enumerate(lines):\n",
    "            if number == 4: # extracting the title of each story as a key\n",
    "                title = line\n",
    "                title = title.strip()\n",
    "            elif number not in [4, 6] and line != \"\\n\": # skipping unneccesary lines\n",
    "                ls.append(line.strip(\" \"))\n",
    "            \n",
    "        conc_text = \"\".join(ls)\n",
    "        conc_text = re.sub(r'[-]+\\n([\\S\\s]+)', '', conc_text) # removing additional information at the bottom of the text files\n",
    "        conc_text = conc_text.strip()\n",
    "        df_dict[title] = conc_text"
   ]
  },
  {
   "cell_type": "code",
   "execution_count": 61,
   "metadata": {},
   "outputs": [],
   "source": [
    "df_sherlock = pd.DataFrame.from_dict(df_dict, orient='index', columns=['text'])\n",
    "df_sherlock.index.name = 'title'"
   ]
  },
  {
   "cell_type": "code",
   "execution_count": 62,
   "metadata": {},
   "outputs": [],
   "source": [
    "df_sherlock['text_prepro'] = df_sherlock['text'].str.lower()"
   ]
  },
  {
   "cell_type": "code",
   "execution_count": 63,
   "metadata": {},
   "outputs": [],
   "source": [
    "translator = str.maketrans('', '', string.punctuation)\n",
    "df_sherlock['text_prepro'] = df_sherlock['text_prepro'].apply(lambda x: x.translate(translator))"
   ]
  },
  {
   "cell_type": "code",
   "execution_count": 64,
   "metadata": {},
   "outputs": [],
   "source": [
    "stopwords = nltk.corpus.stopwords.words('english')\n",
    "df_sherlock['text_prepro'] = df_sherlock['text_prepro'].apply(lambda x: ' '.join([word for word in x.split() if word not in (stopwords)]))"
   ]
  },
  {
   "cell_type": "code",
   "execution_count": 65,
   "metadata": {},
   "outputs": [],
   "source": [
    "df_sherlock['text_prepro'] = df_sherlock['text_prepro'].apply(lambda x: nltk.tokenize.word_tokenize(x))"
   ]
  },
  {
   "cell_type": "code",
   "execution_count": 67,
   "metadata": {},
   "outputs": [],
   "source": [
    "stemmer = nltk.stem.PorterStemmer()\n",
    "\n",
    "def stem_text(text):\n",
    "    stemmed_words = [stemmer.stem(word) for word in text]\n",
    "    return ' '.join(stemmed_words)\n",
    "\n",
    "df_sherlock['text_prepro'] = df_sherlock['text_prepro'].apply(stem_text)"
   ]
  },
  {
   "cell_type": "code",
   "execution_count": null,
   "metadata": {},
   "outputs": [],
   "source": [
    "def pos_tag_text(text):\n",
    "    pos_tags = nltk.pos_tag(text)\n",
    "    return pos_tags\n",
    "\n",
    "df_sherlock['text_prepro'] = df_sherlock['text_prepro'].apply(pos_tag_text)"
   ]
  },
  {
   "attachments": {},
   "cell_type": "markdown",
   "metadata": {},
   "source": [
    "<h2> Narrative arc </h2>"
   ]
  },
  {
   "attachments": {},
   "cell_type": "markdown",
   "metadata": {},
   "source": [
    "<h2> Temporal usage </h2>"
   ]
  },
  {
   "attachments": {},
   "cell_type": "markdown",
   "metadata": {},
   "source": [
    "<h2> Emotion Analysis </h2>"
   ]
  },
  {
   "cell_type": "markdown",
   "metadata": {},
   "source": []
  }
 ],
 "metadata": {
  "kernelspec": {
   "display_name": "Python 3",
   "language": "python",
   "name": "python3"
  },
  "language_info": {
   "codemirror_mode": {
    "name": "ipython",
    "version": 3
   },
   "file_extension": ".py",
   "mimetype": "text/x-python",
   "name": "python",
   "nbconvert_exporter": "python",
   "pygments_lexer": "ipython3",
   "version": "3.11.2"
  },
  "orig_nbformat": 4
 },
 "nbformat": 4,
 "nbformat_minor": 2
}
